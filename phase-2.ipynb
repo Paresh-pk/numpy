{
 "cells": [
  {
   "cell_type": "markdown",
   "metadata": {},
   "source": [
    "numpy array operation"
   ]
  },
  {
   "cell_type": "code",
   "execution_count": 3,
   "metadata": {},
   "outputs": [],
   "source": [
    "import numpy as np"
   ]
  },
  {
   "cell_type": "code",
   "execution_count": 4,
   "metadata": {},
   "outputs": [
    {
     "name": "stdout",
     "output_type": "stream",
     "text": [
      "Basic Slicing [3 4 5 6 7]\n",
      "With Step [2 4 6 8]\n",
      "Negative indexing 7\n"
     ]
    }
   ],
   "source": [
    "arr = np.array([1,2,3,4,5,6,7,8,9])\n",
    "\n",
    "print(\"Basic Slicing\", arr[2:7])\n",
    "print(\"With Step\", arr[1:8:2])\n",
    "print(\"Negative indexing\", arr[-3])"
   ]
  },
  {
   "cell_type": "code",
   "execution_count": 8,
   "metadata": {},
   "outputs": [
    {
     "name": "stdout",
     "output_type": "stream",
     "text": [
      "arr_2d [[1 2 3 4]\n",
      " [1 2 3 4]]\n",
      "Specific  element 4\n",
      "Entire row [1 2 3 4]\n",
      "Entire row [3 3]\n"
     ]
    }
   ],
   "source": [
    "arr_2d = np.array([[1,2,3,4],[1,2,3,4]])\n",
    "print(\"arr_2d\", arr_2d)\n",
    "\n",
    "print(\"Specific  element\", arr_2d[1,3] )\n",
    "print(\"Entire row\", arr_2d[1])\n",
    "print(\"Entire row\", arr_2d[:,2])"
   ]
  },
  {
   "cell_type": "markdown",
   "metadata": {},
   "source": [
    "#sorting\n"
   ]
  },
  {
   "cell_type": "code",
   "execution_count": 19,
   "metadata": {},
   "outputs": [
    {
     "name": "stdout",
     "output_type": "stream",
     "text": [
      "Sorted Array [1 2 3 5 6 7]\n",
      "Sorted 2D array by column [[ 2  1]\n",
      " [ 4  9]\n",
      " [ 8 12]]\n",
      "Sorted 2D array by column [[ 8 12]\n",
      " [ 1  2]\n",
      " [ 4  9]]\n"
     ]
    }
   ],
   "source": [
    "unsorted = np.array([3,2,1,6,5,7])\n",
    "print(\"Sorted Array\", np.sort(unsorted))\n",
    "arr_2d_unsorted = np.array([[8,12],[2,1],[4,9] ])\n",
    "#Operate column-wise (down each column)\n",
    "print(\"Sorted 2D array by column\", np.sort(arr_2d_unsorted, axis=0))\n",
    "#Operate row-wise (across each row)\n",
    "print(\"Sorted 2D array by column\", np.sort(arr_2d_unsorted, axis=1))\n",
    "\n"
   ]
  },
  {
   "cell_type": "markdown",
   "metadata": {},
   "source": [
    "#filter\n"
   ]
  },
  {
   "cell_type": "code",
   "execution_count": 23,
   "metadata": {},
   "outputs": [
    {
     "name": "stdout",
     "output_type": "stream",
     "text": [
      "number [1 2 3 4 5 6 7 8 9]\n",
      "even numvers [2 4 6 8]\n"
     ]
    }
   ],
   "source": [
    "number = np.array([1,2,3,4,5,6,7,8,9])\n",
    "print(\"number\", number)\n",
    "\n",
    "even_number = number[number % 2 == 0]\n",
    "print(\"even numvers\",even_number)\n"
   ]
  },
  {
   "cell_type": "code",
   "execution_count": 27,
   "metadata": {},
   "outputs": [
    {
     "name": "stdout",
     "output_type": "stream",
     "text": [
      "numbers greater than 5 [6 7 8 9]\n"
     ]
    }
   ],
   "source": [
    "#filter with mask\n",
    "mask = number > 5\n",
    "print(\"numbers greater than 5\", number[mask]) "
   ]
  },
  {
   "cell_type": "code",
   "execution_count": 29,
   "metadata": {},
   "outputs": [
    {
     "name": "stdout",
     "output_type": "stream",
     "text": [
      "[1 3 5]\n",
      "NP where [6 7 8 9]\n"
     ]
    }
   ],
   "source": [
    "#fanxy indexing vs np.where()\n",
    "\n",
    "indices = [0,2,4]\n",
    "print(number[indices])\n",
    "\n",
    "where_result = np.where(number>5)\n",
    "print(\"NP where\", number[where_result])"
   ]
  },
  {
   "cell_type": "code",
   "execution_count": 31,
   "metadata": {},
   "outputs": [
    {
     "name": "stdout",
     "output_type": "stream",
     "text": [
      "[ 1  2  3  4  5 12 14 16 18]\n"
     ]
    }
   ],
   "source": [
    "condition_array = np.where(number>5, number*2,number)\n",
    "print(condition_array)"
   ]
  },
  {
   "cell_type": "code",
   "execution_count": null,
   "metadata": {},
   "outputs": [
    {
     "name": "stdout",
     "output_type": "stream",
     "text": [
      "number3 : [1 2 3 4 5 6 7 8 9 1 2 3 4 5 6 7 8 9]\n"
     ]
    }
   ],
   "source": [
    "#adding and removing data\n",
    "number1 = np.array([1,2,3,4,5,6,7,8,9])\n",
    "number2 = np.array([1,2,3,4,5,6,7,8,9])\n",
    "combined = np.concatenate((number1,number2))\n",
    "print(\"number3 :\",combined)\n"
   ]
  },
  {
   "cell_type": "code",
   "execution_count": 35,
   "metadata": {},
   "outputs": [
    {
     "name": "stdout",
     "output_type": "stream",
     "text": [
      "compatibility shapes True\n"
     ]
    }
   ],
   "source": [
    "#arr compatibility\n",
    "number1 = np.array([1,2,3,4,5,6,7,8,9])\n",
    "number2 = np.array([1,2,3,4,5,6,7,8,9])\n",
    "\n",
    "print(\"compatibility shapes\", number1.shape == number2.shape)\n"
   ]
  },
  {
   "cell_type": "code",
   "execution_count": null,
   "metadata": {},
   "outputs": [
    {
     "name": "stdout",
     "output_type": "stream",
     "text": [
      "new [[1 2 3 4 5 6 7 8 9]\n",
      " [1 2 3 4 5 6 7 8 9]]\n"
     ]
    }
   ],
   "source": [
    "number1 = np.array([1,2,3,4,5,6,7,8,9])\n",
    "new_row = np.array([[1,2,3,4,5,6,7,8,9]])\n",
    "#vstack=row\n",
    "new = np.vstack((number1, new_row))\n",
    "print(\"new\", new)\n",
    "\n",
    "\n"
   ]
  },
  {
   "cell_type": "code",
   "execution_count": null,
   "metadata": {},
   "outputs": [
    {
     "name": "stdout",
     "output_type": "stream",
     "text": [
      "new1 [[1 2 8]\n",
      " [3 4 9]\n",
      " [5 6 5]]\n"
     ]
    }
   ],
   "source": [
    "#hstack = coloum\n",
    "number5 = np.array([[1,2],[3,4],[5,6]])\n",
    "new_column = np.array([[8],[9],[5]])\n",
    "new1 = np.hstack((number5,new_column))\n",
    "print(\"new1\", new1)"
   ]
  },
  {
   "cell_type": "code",
   "execution_count": 44,
   "metadata": {},
   "outputs": [
    {
     "name": "stdout",
     "output_type": "stream",
     "text": [
      "deleted [1 2 4 5 6 7 8 9]\n"
     ]
    }
   ],
   "source": [
    "number1 = np.array([1,2,3,4,5,6,7,8,9])\n",
    "deleted = np.delete(arr,2)\n",
    "print(\"deleted\",deleted)"
   ]
  },
  {
   "cell_type": "markdown",
   "metadata": {},
   "source": [
    "Advanced operation with business examples\n"
   ]
  },
  {
   "cell_type": "code",
   "execution_count": null,
   "metadata": {},
   "outputs": [],
   "source": []
  },
  {
   "cell_type": "code",
   "execution_count": null,
   "metadata": {},
   "outputs": [
    {
     "name": "stdout",
     "output_type": "stream",
     "text": [
      "sales_data [[     1  15000  18000 220000  25000]\n",
      " [     2  16000  19000 230000  26000]\n",
      " [     3  17000  20000 210000  27000]\n",
      " [     4  18000  21000 220000  28000]\n",
      " [     5  19000  22000 230000  26000]]\n"
     ]
    }
   ],
   "source": [
    "#data structure:[resturent_id,2021,2022,2023,2024]\n",
    "sales_data = np.array([\n",
    "   [1,15000,18000,220000,25000], #paraise\n",
    "   [2,16000,19000,230000,26000], #beijing\n",
    "   [3,17000,20000,210000,27000], #pizza\n",
    "   [4,18000,21000,220000,28000], #burger\n",
    "   [5,19000,22000,230000,26000]  #chai\n",
    "])\n",
    "print(\"sales_data\", sales_data)\n",
    "\n"
   ]
  }
 ],
 "metadata": {
  "kernelspec": {
   "display_name": ".venv",
   "language": "python",
   "name": "python3"
  },
  "language_info": {
   "codemirror_mode": {
    "name": "ipython",
    "version": 3
   },
   "file_extension": ".py",
   "mimetype": "text/x-python",
   "name": "python",
   "nbconvert_exporter": "python",
   "pygments_lexer": "ipython3",
   "version": "3.11.9"
  }
 },
 "nbformat": 4,
 "nbformat_minor": 2
}
