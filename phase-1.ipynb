{
 "cells": [
  {
   "cell_type": "markdown",
   "metadata": {},
   "source": [
    "## numpy array and basics\n"
   ]
  },
  {
   "cell_type": "code",
   "execution_count": 1,
   "metadata": {},
   "outputs": [],
   "source": [
    "import numpy  as np"
   ]
  },
  {
   "cell_type": "code",
   "execution_count": 2,
   "metadata": {},
   "outputs": [
    {
     "name": "stdout",
     "output_type": "stream",
     "text": [
      "1D array: [1 2 3 3 6 5]\n",
      "2D array: [[1 2 3 3 6 5]\n",
      " [1 2 3 3 6 5]]\n"
     ]
    }
   ],
   "source": [
    "arr_1d = np.array([1,2,3,3,6,5])\n",
    "print(\"1D array:\", arr_1d)\n",
    "arr_2d = np.array([[1,2,3,3,6,5], [1,2,3,3,6,5]])\n",
    "print(\"2D array:\", arr_2d)"
   ]
  },
  {
   "cell_type": "markdown",
   "metadata": {},
   "source": [
    "###list vs numpy\n"
   ]
  },
  {
   "cell_type": "code",
   "execution_count": 4,
   "metadata": {},
   "outputs": [
    {
     "name": "stdout",
     "output_type": "stream",
     "text": [
      "Python list multiplication [1, 2, 3, 1, 2, 3]\n",
      "Python array multiplication [ 2  4  6  6 12 10]\n"
     ]
    }
   ],
   "source": [
    "py_list = [1,2,3,]\n",
    "print(\"Python list multiplication\", py_list * 2)\n",
    "arr_1d = np.array([1,2,3,3,6,5])\n",
    "print(\"Python array multiplication\", arr_1d * 2)"
   ]
  },
  {
   "cell_type": "code",
   "execution_count": 11,
   "metadata": {},
   "outputs": [
    {
     "name": "stdout",
     "output_type": "stream",
     "text": [
      "\n",
      " List operatin time:  0.07643795013427734\n",
      "\n",
      " numpy operatin time:  0.006989479064941406\n"
     ]
    }
   ],
   "source": [
    "import time\n",
    "start = time.time()\n",
    "py_list = [i*2 for i in range(1000000)]\n",
    "print(\"\\n List operatin time: \", time.time() - start)\n",
    "\n",
    "start = time.time()\n",
    "arr_1d = np.arange(1000000) * 2\n",
    "print(\"\\n numpy operatin time: \", time.time() - start)"
   ]
  },
  {
   "cell_type": "code",
   "execution_count": null,
   "metadata": {},
   "outputs": [],
   "source": [
    "###creating array from scratch\n"
   ]
  },
  {
   "cell_type": "code",
   "execution_count": 12,
   "metadata": {},
   "outputs": [
    {
     "name": "stdout",
     "output_type": "stream",
     "text": [
      "one array: \n",
      " [[1. 1. 1.]\n",
      " [1. 1. 1.]]\n"
     ]
    }
   ],
   "source": [
    "ones = np.ones((2,3))\n",
    "print(\"one array: \\n\",ones)"
   ]
  },
  {
   "cell_type": "code",
   "execution_count": 13,
   "metadata": {},
   "outputs": [
    {
     "name": "stdout",
     "output_type": "stream",
     "text": [
      "full array: \n",
      " [[7 7]\n",
      " [7 7]]\n"
     ]
    }
   ],
   "source": [
    "full = np.full((2,2),7)\n",
    "print(\"full array: \\n\", full)"
   ]
  },
  {
   "cell_type": "code",
   "execution_count": 15,
   "metadata": {},
   "outputs": [
    {
     "name": "stdout",
     "output_type": "stream",
     "text": [
      "random array : \n",
      " [[0.79135804 0.87643951 0.79889584]\n",
      " [0.25896051 0.95218064 0.48743801]]\n"
     ]
    }
   ],
   "source": [
    "###random\n",
    "random = np.random.random((2,3)) \n",
    "print(\"random array : \\n\", random)"
   ]
  },
  {
   "cell_type": "code",
   "execution_count": 18,
   "metadata": {},
   "outputs": [
    {
     "name": "stdout",
     "output_type": "stream",
     "text": [
      "sequence array: \n",
      " [0 2 4 6 8]\n"
     ]
    }
   ],
   "source": [
    "sequence = np.arange(0, 10, 2)\n",
    "print(\"sequence array: \\n\", sequence)"
   ]
  },
  {
   "cell_type": "markdown",
   "metadata": {},
   "source": [
    "###vector, matrix and tensor\n"
   ]
  },
  {
   "cell_type": "code",
   "execution_count": 20,
   "metadata": {},
   "outputs": [
    {
     "name": "stdout",
     "output_type": "stream",
     "text": [
      "vector: [1 2 3]\n",
      "matrix: [[1 2 3]\n",
      " [4 5 6]]\n",
      "tensor: [[1 2]\n",
      " [1 2]\n",
      " [1 2]\n",
      " [1 2]]\n"
     ]
    }
   ],
   "source": [
    "vector = np.array ([1,2,3])\n",
    "print(\"vector:\", vector)\n",
    "\n",
    "matrix = np.array([[1,2,3],[ 4,5,6]])\n",
    "print(\"matrix:\", matrix)\n",
    " \n",
    " \n",
    "tensor = np.array([[1,2],[1,2],[1,2],[1,2]])\n",
    "print(\"tensor:\", tensor)"
   ]
  },
  {
   "cell_type": "markdown",
   "metadata": {},
   "source": [
    "###array properties\n"
   ]
  },
  {
   "cell_type": "code",
   "execution_count": 21,
   "metadata": {},
   "outputs": [
    {
     "name": "stdout",
     "output_type": "stream",
     "text": [
      "Shape (2, 3)\n",
      "Dimension 2\n",
      "Size 6\n",
      "Dtype int64\n"
     ]
    }
   ],
   "source": [
    "arr = np.array([[1, 2, 3], [5, 5, 6]])\n",
    "print(\"Shape\", arr.shape)\n",
    "print(\"Dimension\", arr.ndim)\n",
    "print(\"Size\", arr.size)\n",
    "print(\"Dtype\", arr.dtype)"
   ]
  },
  {
   "cell_type": "markdown",
   "metadata": {},
   "source": [
    "array reshaping"
   ]
  },
  {
   "cell_type": "code",
   "execution_count": null,
   "metadata": {},
   "outputs": [
    {
     "name": "stdout",
     "output_type": "stream",
     "text": [
      "original aar [0 1 2 3 4 5 6 7 8 9]\n"
     ]
    },
    {
     "ename": "ValueError",
     "evalue": "cannot reshape array of size 10 into shape (3,4)",
     "output_type": "error",
     "traceback": [
      "\u001b[31m---------------------------------------------------------------------------\u001b[39m",
      "\u001b[31mValueError\u001b[39m                                Traceback (most recent call last)",
      "\u001b[36mCell\u001b[39m\u001b[36m \u001b[39m\u001b[32mIn[26]\u001b[39m\u001b[32m, line 4\u001b[39m\n\u001b[32m      1\u001b[39m arr = np.arange(\u001b[32m0\u001b[39m, \u001b[32m10\u001b[39m)\n\u001b[32m      2\u001b[39m \u001b[38;5;28mprint\u001b[39m(\u001b[33m\"\u001b[39m\u001b[33moriginal aar\u001b[39m\u001b[33m\"\u001b[39m,arr)\n\u001b[32m----> \u001b[39m\u001b[32m4\u001b[39m reshape = \u001b[43marr\u001b[49m\u001b[43m.\u001b[49m\u001b[43mreshape\u001b[49m\u001b[43m(\u001b[49m\u001b[43m(\u001b[49m\u001b[32;43m3\u001b[39;49m\u001b[43m,\u001b[49m\u001b[32;43m4\u001b[39;49m\u001b[43m)\u001b[49m\u001b[43m)\u001b[49m\n",
      "\u001b[31mValueError\u001b[39m: cannot reshape array of size 10 into shape (3,4)"
     ]
    }
   ],
   "source": [
    "arr = np.arange(0, 10)\n",
    "print(\"original aar\",arr)\n",
    "\n",
    "reshaped= arr.reshape((3,4))\n",
    "print()\n",
    "\n"
   ]
  },
  {
   "cell_type": "code",
   "execution_count": null,
   "metadata": {},
   "outputs": [],
   "source": []
  }
 ],
 "metadata": {
  "kernelspec": {
   "display_name": ".venv",
   "language": "python",
   "name": "python3"
  },
  "language_info": {
   "codemirror_mode": {
    "name": "ipython",
    "version": 3
   },
   "file_extension": ".py",
   "mimetype": "text/x-python",
   "name": "python",
   "nbconvert_exporter": "python",
   "pygments_lexer": "ipython3",
   "version": "3.11.9"
  }
 },
 "nbformat": 4,
 "nbformat_minor": 2
}
